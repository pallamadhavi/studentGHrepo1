{
 "cells": [
  {
   "cell_type": "code",
   "source": [
    "from studentGHrepo import greet\n",
    "from studentGHrepo.subPackage import cosine_similarity\n",
    "\n",
    "print(greet(\"PyPI Tester\"))\n",
    "print(cosine_similarity([1, 2, 3], [4, 5, 6]))"
   ],
   "metadata": {},
   "execution_count": null,
   "outputs": []
  }
 ],
 "metadata": {
  "kernelspec": {
   "name": "python3",
   "language": "python",
   "display_name": "Python 3"
  },
  "language_info": {
   "name": "python",
   "version": "3.8"
  }
 },
 "nbformat": 4,
 "nbformat_minor": 5
}
